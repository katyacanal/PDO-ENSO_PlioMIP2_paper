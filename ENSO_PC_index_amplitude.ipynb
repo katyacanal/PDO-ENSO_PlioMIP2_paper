{
 "cells": [
  {
   "cell_type": "code",
   "execution_count": 1,
   "metadata": {
    "collapsed": false,
    "deletable": true,
    "editable": true
   },
   "outputs": [],
   "source": [
    "import numpy as np\n",
    "import matplotlib as mpl\n",
    "import matplotlib.pyplot as plt\n",
    "import matplotlib.colors\n",
    "\n",
    "import matplotlib.gridspec as gridspec\n",
    "import statsmodels.tsa.stattools as smt\n",
    "\n",
    "import iris\n",
    "import iris.plot as iplt\n",
    "iris.FUTURE.netcdf_promote=True\n",
    "import iris.coord_categorisation\n",
    "from eofs.iris import Eof\n",
    "from iris.analysis import stats\n",
    "\n",
    "from matplotlib.patches import FancyArrowPatch"
   ]
  },
  {
   "cell_type": "markdown",
   "metadata": {
    "deletable": true,
    "editable": true
   },
   "source": [
    "## Upload data"
   ]
  },
  {
   "cell_type": "code",
   "execution_count": 2,
   "metadata": {
    "collapsed": false,
    "deletable": true,
    "editable": true
   },
   "outputs": [
    {
     "name": "stderr",
     "output_type": "stream",
     "text": [
      "/apps/developers/libraries/python-libs/1.6/1/bit-64-python3-3.5.2/lib/iris/fileformats/_pyke_rules/compiled_krb/fc_rules_cf_fc.py:1813: FutureWarning: Conversion of the second argument of issubdtype from `str` to `str` is deprecated. In future, it will be treated as `np.str_ == np.dtype(str).type`.\n",
      "  if np.issubdtype(cf_var.dtype, np.str):\n",
      "/apps/developers/libraries/python-libs/1.6/1/bit-64-python3-3.5.2/lib/iris/fileformats/_pyke_rules/compiled_krb/fc_rules_cf_fc.py:1813: FutureWarning: Conversion of the second argument of issubdtype from `str` to `str` is deprecated. In future, it will be treated as `np.str_ == np.dtype(str).type`.\n",
      "  if np.issubdtype(cf_var.dtype, np.str):\n"
     ]
    }
   ],
   "source": [
    "# Upload observed\n",
    "file_obs = ('/nfs/see-fs-01_users/mlzp121/ee22kvcs/NOAAERSSTv5_1870_2018_monthly_sst_no_annual_cycle_detrended_regridded.nc')\n",
    "sst_obs = iris.Constraint(cube_func=lambda cube: cube.var_name == 'sst')\n",
    "cube_obs = iris.load_cube(file_obs,sst_obs)"
   ]
  },
  {
   "cell_type": "code",
   "execution_count": 3,
   "metadata": {
    "collapsed": false,
    "deletable": true,
    "editable": true
   },
   "outputs": [],
   "source": [
    "#Define constraints to make cubes for SST variables\n",
    "constraints = [iris.Constraint(cube_func=lambda cube: cube.var_name == 'tos'),\n",
    "               iris.Constraint(cube_func=lambda cube: cube.var_name == 'TS'),\n",
    "               iris.Constraint(cube_func=lambda cube: cube.var_name == 'THO'),\n",
    "               iris.Constraint(cube_func=lambda cube: cube.var_name == 'temp'),\n",
    "               iris.Constraint(cube_func=lambda cube: cube.var_name == 'tos'),\n",
    "               iris.Constraint(cube_func=lambda cube: cube.var_name == 'tos'),\n",
    "               iris.Constraint(cube_func=lambda cube: cube.var_name == 'sst')]"
   ]
  },
  {
   "cell_type": "code",
   "execution_count": 4,
   "metadata": {
    "collapsed": false,
    "deletable": true,
    "editable": true,
    "scrolled": true
   },
   "outputs": [
    {
     "name": "stderr",
     "output_type": "stream",
     "text": [
      "/apps/developers/libraries/python-libs/1.6/1/bit-64-python3-3.5.2/lib/iris/fileformats/_pyke_rules/compiled_krb/fc_rules_cf_fc.py:1813: FutureWarning: Conversion of the second argument of issubdtype from `str` to `str` is deprecated. In future, it will be treated as `np.str_ == np.dtype(str).type`.\n",
      "  if np.issubdtype(cf_var.dtype, np.str):\n",
      "/apps/developers/libraries/python-libs/1.6/1/bit-64-python3-3.5.2/lib/iris/fileformats/_pyke_rules/compiled_krb/fc_rules_cf_fc.py:1813: FutureWarning: Conversion of the second argument of issubdtype from `str` to `str` is deprecated. In future, it will be treated as `np.str_ == np.dtype(str).type`.\n",
      "  if np.issubdtype(cf_var.dtype, np.str):\n",
      "/apps/developers/libraries/python-libs/1.6/1/bit-64-python3-3.5.2/lib/iris/fileformats/_pyke_rules/compiled_krb/fc_rules_cf_fc.py:1813: FutureWarning: Conversion of the second argument of issubdtype from `str` to `str` is deprecated. In future, it will be treated as `np.str_ == np.dtype(str).type`.\n",
      "  if np.issubdtype(cf_var.dtype, np.str):\n",
      "/apps/developers/libraries/python-libs/1.6/1/bit-64-python3-3.5.2/lib/iris/fileformats/_pyke_rules/compiled_krb/fc_rules_cf_fc.py:1813: FutureWarning: Conversion of the second argument of issubdtype from `str` to `str` is deprecated. In future, it will be treated as `np.str_ == np.dtype(str).type`.\n",
      "  if np.issubdtype(cf_var.dtype, np.str):\n",
      "/apps/developers/libraries/python-libs/1.6/1/bit-64-python3-3.5.2/lib/iris/fileformats/_pyke_rules/compiled_krb/fc_rules_cf_fc.py:1813: FutureWarning: Conversion of the second argument of issubdtype from `str` to `str` is deprecated. In future, it will be treated as `np.str_ == np.dtype(str).type`.\n",
      "  if np.issubdtype(cf_var.dtype, np.str):\n",
      "/apps/developers/libraries/python-libs/1.6/1/bit-64-python3-3.5.2/lib/iris/fileformats/_pyke_rules/compiled_krb/fc_rules_cf_fc.py:1813: FutureWarning: Conversion of the second argument of issubdtype from `str` to `str` is deprecated. In future, it will be treated as `np.str_ == np.dtype(str).type`.\n",
      "  if np.issubdtype(cf_var.dtype, np.str):\n",
      "/apps/developers/libraries/python-libs/1.6/1/bit-64-python3-3.5.2/lib/iris/fileformats/_pyke_rules/compiled_krb/fc_rules_cf_fc.py:1813: FutureWarning: Conversion of the second argument of issubdtype from `str` to `str` is deprecated. In future, it will be treated as `np.str_ == np.dtype(str).type`.\n",
      "  if np.issubdtype(cf_var.dtype, np.str):\n",
      "/apps/developers/libraries/python-libs/1.6/1/bit-64-python3-3.5.2/lib/iris/fileformats/_pyke_rules/compiled_krb/fc_rules_cf_fc.py:1813: FutureWarning: Conversion of the second argument of issubdtype from `str` to `str` is deprecated. In future, it will be treated as `np.str_ == np.dtype(str).type`.\n",
      "  if np.issubdtype(cf_var.dtype, np.str):\n"
     ]
    }
   ],
   "source": [
    "# Upload Eoi400 simulations (MP)\n",
    "path = '/nfs/hera1/ee22kvcs/'\n",
    "models = [ 'CCSM4Utr', 'CESM1.2', 'COSMOS', 'HadCM3', 'IPSLCM6A', 'MIROC4m', 'NorESML']\n",
    "names_models_mp = ['0-200_timeseries_CCSM4Utr','501-1099_timeseries_CESM1.2','2300-2799_timeseries_COSMOS',\n",
    "                '2001-2501_timeseries_HadCM3','1850-2049_timeseries_IPSLCM6A','0-500_timeseries_MIROC4m',\n",
    "                '1001-1200_timeseries_NorESML']\n",
    "MP_models = []\n",
    "for i in range(np.size(models)):\n",
    "    uploaded_cubes = iris.load_cube(path+'EOI400.SST.'+names_models_mp[i]+'_no_ann_cycle.nc', constraints[i])\n",
    "    if i == 2:\n",
    "        uploaded_cubes = uploaded_cubes[:, 0, :, :]\n",
    "    else:\n",
    "        uploaded_cubes = uploaded_cubes\n",
    "    MP_models.append(uploaded_cubes)\n",
    "\n",
    "#print(MP_models)"
   ]
  },
  {
   "cell_type": "code",
   "execution_count": 5,
   "metadata": {
    "collapsed": false,
    "deletable": true,
    "editable": true,
    "scrolled": true
   },
   "outputs": [
    {
     "name": "stderr",
     "output_type": "stream",
     "text": [
      "/apps/developers/libraries/python-libs/1.6/1/bit-64-python3-3.5.2/lib/iris/fileformats/_pyke_rules/compiled_krb/fc_rules_cf_fc.py:1813: FutureWarning: Conversion of the second argument of issubdtype from `str` to `str` is deprecated. In future, it will be treated as `np.str_ == np.dtype(str).type`.\n",
      "  if np.issubdtype(cf_var.dtype, np.str):\n",
      "/apps/developers/libraries/python-libs/1.6/1/bit-64-python3-3.5.2/lib/iris/fileformats/_pyke_rules/compiled_krb/fc_rules_cf_fc.py:1813: FutureWarning: Conversion of the second argument of issubdtype from `str` to `str` is deprecated. In future, it will be treated as `np.str_ == np.dtype(str).type`.\n",
      "  if np.issubdtype(cf_var.dtype, np.str):\n",
      "/apps/developers/libraries/python-libs/1.6/1/bit-64-python3-3.5.2/lib/iris/fileformats/_pyke_rules/compiled_krb/fc_rules_cf_fc.py:1813: FutureWarning: Conversion of the second argument of issubdtype from `str` to `str` is deprecated. In future, it will be treated as `np.str_ == np.dtype(str).type`.\n",
      "  if np.issubdtype(cf_var.dtype, np.str):\n",
      "/apps/developers/libraries/python-libs/1.6/1/bit-64-python3-3.5.2/lib/iris/fileformats/_pyke_rules/compiled_krb/fc_rules_cf_fc.py:1813: FutureWarning: Conversion of the second argument of issubdtype from `str` to `str` is deprecated. In future, it will be treated as `np.str_ == np.dtype(str).type`.\n",
      "  if np.issubdtype(cf_var.dtype, np.str):\n",
      "/apps/developers/libraries/python-libs/1.6/1/bit-64-python3-3.5.2/lib/iris/fileformats/_pyke_rules/compiled_krb/fc_rules_cf_fc.py:1813: FutureWarning: Conversion of the second argument of issubdtype from `str` to `str` is deprecated. In future, it will be treated as `np.str_ == np.dtype(str).type`.\n",
      "  if np.issubdtype(cf_var.dtype, np.str):\n",
      "/apps/developers/libraries/python-libs/1.6/1/bit-64-python3-3.5.2/lib/iris/fileformats/_pyke_rules/compiled_krb/fc_rules_cf_fc.py:1813: FutureWarning: Conversion of the second argument of issubdtype from `str` to `str` is deprecated. In future, it will be treated as `np.str_ == np.dtype(str).type`.\n",
      "  if np.issubdtype(cf_var.dtype, np.str):\n",
      "/apps/developers/libraries/python-libs/1.6/1/bit-64-python3-3.5.2/lib/iris/fileformats/_pyke_rules/compiled_krb/fc_rules_cf_fc.py:1813: FutureWarning: Conversion of the second argument of issubdtype from `str` to `str` is deprecated. In future, it will be treated as `np.str_ == np.dtype(str).type`.\n",
      "  if np.issubdtype(cf_var.dtype, np.str):\n",
      "/apps/developers/libraries/python-libs/1.6/1/bit-64-python3-3.5.2/lib/iris/fileformats/_pyke_rules/compiled_krb/fc_rules_cf_fc.py:1813: FutureWarning: Conversion of the second argument of issubdtype from `str` to `str` is deprecated. In future, it will be treated as `np.str_ == np.dtype(str).type`.\n",
      "  if np.issubdtype(cf_var.dtype, np.str):\n"
     ]
    }
   ],
   "source": [
    "# Upload E280 simulations (PI)\n",
    "path = '/nfs/hera1/ee22kvcs/'\n",
    "models = [ 'CCSM4Utr', 'CESM1.2', 'COSMOS', 'HadCM3', 'IPSLCM6A', 'MIROC4m', 'NorESML']\n",
    "names_models_pi = ['0-200_timeseries_CCSM4Utr','501-806_timeseries_CESM1.2','2300-2799_timeseries_COSMOS',\n",
    "                '2411-2911_timeseries_HadCM3','2850-3049_timeseries_IPSLCM6A','0-500_timeseries_MIROC4m',\n",
    "                '0-200_timeseries_NorESML']\n",
    "PI_models = []\n",
    "for i in range(np.size(models)):\n",
    "    uploaded_cubes = iris.load_cube(path+'E280.SST.'+names_models_pi[i]+'_no_ann_cycle.nc', constraints[i])\n",
    "    if i == 2:\n",
    "        uploaded_cubes = uploaded_cubes[:, 0, :, :]\n",
    "    else:\n",
    "        uploaded_cubes = uploaded_cubes\n",
    "    PI_models.append(uploaded_cubes)\n",
    "\n",
    "#print(PI_models)"
   ]
  },
  {
   "cell_type": "markdown",
   "metadata": {
    "deletable": true,
    "editable": true
   },
   "source": [
    "## Subset the region"
   ]
  },
  {
   "cell_type": "code",
   "execution_count": 6,
   "metadata": {
    "collapsed": false,
    "deletable": true,
    "editable": true
   },
   "outputs": [],
   "source": [
    "# EL NIÑO 3.4 region\n",
    "# Delimt the region for the cube\n",
    "min_lat = -5.0\n",
    "max_lat = 5.0\n",
    "min_lon = 120.0\n",
    "max_lon = 170.0\n",
    "\n",
    "# Functions to identify latitudes and longitudes we want to subset to\n",
    "def nino_lat(input):\n",
    "    return min_lat  <= input <= max_lat \n",
    "def nino_lon(input):\n",
    "    return min_lon  <= input <= max_lon \n",
    "\n",
    "nino_con = iris.Constraint(latitude = nino_lat, longitude = nino_lon)\n",
    "\n",
    "nino_mp_subset = []\n",
    "for i in MP_models:\n",
    "    nino_mp_sub = nino_con.extract(i)\n",
    "    nino_mp_subset.append(nino_mp_sub)\n",
    "    \n",
    "nino_pi_subset = []\n",
    "for j in PI_models:\n",
    "    nino_pi_sub = nino_con.extract(j)\n",
    "    nino_pi_subset.append(nino_pi_sub)\n",
    "    \n",
    "nino_obs_subset = nino_con.extract(cube_obs)"
   ]
  },
  {
   "cell_type": "markdown",
   "metadata": {
    "deletable": true,
    "editable": true
   },
   "source": [
    "## Compute the PC1"
   ]
  },
  {
   "cell_type": "code",
   "execution_count": 7,
   "metadata": {
    "collapsed": false,
    "deletable": true,
    "editable": true
   },
   "outputs": [],
   "source": [
    "### Calculate PC1 for El Niño\n",
    "## MP\n",
    "pcs_mp_nino = []\n",
    "for mod in range(np.size(MP_models)):\n",
    "    if not nino_mp_subset[mod].coord('latitude').has_bounds():\n",
    "        nino_mp_subset[mod].coord('latitude').guess_bounds()\n",
    "    if not nino_mp_subset[mod].coord('longitude').has_bounds():\n",
    "        nino_mp_subset[mod].coord('longitude').guess_bounds()\n",
    "    solver = Eof(nino_mp_subset[mod], weights='area')\n",
    "    pcs  = solver.pcs(npcs=1)\n",
    "    pcs_mp_nino.append(pcs)\n",
    "    \n",
    "## PI    \n",
    "pcs_pi_nino = []\n",
    "for mod in range(np.size(PI_models)):\n",
    "    if not nino_pi_subset[mod].coord('latitude').has_bounds():\n",
    "        nino_pi_subset[mod].coord('latitude').guess_bounds()\n",
    "    if not nino_pi_subset[mod].coord('longitude').has_bounds():\n",
    "        nino_pi_subset[mod].coord('longitude').guess_bounds()\n",
    "    solver = Eof(nino_pi_subset[mod], weights='area')\n",
    "    pcs  = solver.pcs(npcs=1)\n",
    "    pcs_pi_nino.append(pcs)\n",
    "    \n",
    "## Obs    \n",
    "if not nino_obs_subset.coord('latitude').has_bounds():\n",
    "    nino_obs_subset.coord('latitude').guess_bounds()\n",
    "if not nino_obs_subset.coord('longitude').has_bounds():\n",
    "    nino_obs_subset.coord('longitude').guess_bounds()        \n",
    "solver_obsp = Eof(nino_obs_subset, weights='area')\n",
    "pcs_obsp  = solver_obsp.pcs(npcs=1)"
   ]
  },
  {
   "cell_type": "markdown",
   "metadata": {
    "deletable": true,
    "editable": true
   },
   "source": [
    "## Amplitudes of ENSO"
   ]
  },
  {
   "cell_type": "code",
   "execution_count": 8,
   "metadata": {
    "collapsed": false,
    "deletable": true,
    "editable": true
   },
   "outputs": [
    {
     "name": "stderr",
     "output_type": "stream",
     "text": [
      "/apps/developers/libraries/python-libs/1.6/1/bit-64-python3-3.5.2/lib/iris/coords.py:988: FutureWarning: Conversion of the second argument of issubdtype from `str` to `str` is deprecated. In future, it will be treated as `np.str_ == np.dtype(str).type`.\n",
      "  if np.issubdtype(self.dtype, np.str):\n",
      "/apps/developers/libraries/python-libs/1.6/1/bit-64-python3-3.5.2/lib/iris/coords.py:1017: UserWarning: Collapsing a non-contiguous coordinate. Metadata may not be fully descriptive for 'time'.\n",
      "  warnings.warn(msg.format(self.name()))\n",
      "/apps/developers/libraries/python-libs/1.6/1/bit-64-python3-3.5.2/lib/iris/coords.py:1017: UserWarning: Collapsing a non-contiguous coordinate. Metadata may not be fully descriptive for 'month'.\n",
      "  warnings.warn(msg.format(self.name()))\n",
      "/apps/developers/libraries/python-libs/1.6/1/bit-64-python3-3.5.2/lib/iris/coords.py:1017: UserWarning: Collapsing a non-contiguous coordinate. Metadata may not be fully descriptive for 'year'.\n",
      "  warnings.warn(msg.format(self.name()))\n"
     ]
    }
   ],
   "source": [
    "## Calculate amplitudes\n",
    "st_dev_mp = []\n",
    "st_dev_pi = []\n",
    "\n",
    "for i in range(np.size(MP_models)):\n",
    "    result_mp = pcs_mp_nino[i].collapsed('time', iris.analysis.STD_DEV)\n",
    "    result_pi = pcs_pi_nino[i].collapsed('time', iris.analysis.STD_DEV)\n",
    "    st_dev_mp.append(result_mp)\n",
    "    st_dev_pi.append(result_pi)\n",
    "    \n",
    "st_dev_obs = pcs_obsp.collapsed('time', iris.analysis.STD_DEV)"
   ]
  },
  {
   "cell_type": "code",
   "execution_count": 9,
   "metadata": {
    "collapsed": false,
    "deletable": true,
    "editable": true
   },
   "outputs": [],
   "source": [
    "### MMM\n",
    "MMM_MP = sum(st_dev_mp[i].data for i in range(np.size(st_dev_mp))) / 7\n",
    "MMM_PI = sum(st_dev_pi[i].data for i in range(np.size(st_dev_pi))) / 7\n",
    "### Concatenate\n",
    "amp_mp = [st_dev_mp[j].data for j in range(7)] + [MMM_MP]\n",
    "amp_pi = [st_dev_pi[j].data for j in range(7)] + [MMM_PI]"
   ]
  },
  {
   "cell_type": "code",
   "execution_count": 10,
   "metadata": {
    "collapsed": false,
    "deletable": true,
    "editable": true
   },
   "outputs": [
    {
     "data": {
      "image/png": "[encoded data removed]",
      "text/plain": [
       "<matplotlib.figure.Figure at 0x7f9057316470>"
      ]
     },
     "metadata": {},
     "output_type": "display_data"
    }
   ],
   "source": [
    "labels = ['CCSM4-Utr','CESM-1.2','COSMOS','HadCM3','IPSLCM6A-LR','MIROC4m','NorESM-L','MMM']\n",
    "labels2 = ['CCSM4-Utr','CESM-1.2','COSMOS','HadCM3','IPSLCM6A-LR','MIROC4m','NorESM-L','MMM','NOAAERSSTv5']\n",
    "\n",
    "fig = plt.figure(figsize=(14.5, 5))\n",
    "ax1 = fig.add_subplot(1, 1, 1)\n",
    "\n",
    "# Plot bars\n",
    "bars_mp = ax1.bar(np.arange(len(labels))+ 0.00, np.array(amp_mp), 0.25, label='MP', color='#D7191C')\n",
    "bars_pi = ax1.bar(np.arange(len(labels))+ 0.25, np.array(amp_pi), 0.25, label='PI', color='#0571B0')\n",
    "ax1.bar(8.1, np.array(st_dev_obs.data), 0.25, label='OBS', color='gray')\n",
    "\n",
    "# Add labels to 'MP' bars\n",
    "change = (np.array(amp_mp)-np.array(amp_pi))/np.array(amp_pi)*100\n",
    "labels_mp_str = [\"%.f\" % x for x in change]\n",
    "for i, rect in enumerate(bars_mp):\n",
    "    if i == 4:\n",
    "        ax1.annotate(labels_mp_str[i] + '%',\n",
    "                 xy=(rect.get_x() + rect.get_width() / 2 + 0.32, rect.get_height()-0.05),\n",
    "                 xytext=(0, 3),\n",
    "                 textcoords=\"offset points\",\n",
    "                 ha='center', va='bottom', fontsize=14)\n",
    "    else:\n",
    "        ax1.annotate(labels_mp_str[i] + '%',\n",
    "                 xy=(rect.get_x() + rect.get_width() / 2 - 0.3, rect.get_height()+0.05),\n",
    "                 xytext=(0, 3),\n",
    "                 textcoords=\"offset points\",\n",
    "                 ha='center', va='bottom', fontsize=14)\n",
    "# Arrows\n",
    "for i in range(len(labels)):\n",
    "    arrow = FancyArrowPatch(\n",
    "        (bars_pi[i].get_x() - bars_pi[i].get_width() / 2, bars_pi[i].get_height()),\n",
    "        (bars_pi[i].get_x() - bars_pi[i].get_width() / 2, bars_mp[i].get_height()),\n",
    "        arrowstyle='simple', mutation_scale=15, color='black', linestyle='-'\n",
    "    )\n",
    "    ax1.add_patch(arrow)\n",
    "               \n",
    "ax1.set_xticks(np.arange(9) + 0.1)\n",
    "ax1.set_xticklabels(labels2, fontsize=13.5)\n",
    "ax1.set_yticks([0,.1,.2,.3,.4,.5,.6,.7,.8,.9,1,1.1,1.2,1.3,1.4,1.5])\n",
    "ax1.set_yticklabels([0,.1,.2,.3,.4,.5,.6,.7,.8,.9,1,1.1,1.2,1.3,1.4,1.5],fontsize=13.5)\n",
    "\n",
    "ax1.set_xlabel('Model', fontsize=17)\n",
    "ax1.set_ylabel('Amplitude (°C)', fontsize=17)\n",
    "plt.axhline(y=0, color='gray', linestyle='-', linewidth=1.5)\n",
    "ax1.legend(fontsize=14)\n",
    "\n",
    "#plt.savefig('/nfs/see-fs-01_users/mlzp121/ee22kvcs/Task4/Amplitude_bars_Nino_PCs_v2.png', bbox_inches = 'tight', dpi=300, format='png')\n",
    "plt.show()"
   ]
  },
  {
   "cell_type": "code",
   "execution_count": null,
   "metadata": {
    "collapsed": true,
    "deletable": true,
    "editable": true
   },
   "outputs": [],
   "source": []
  }
 ],
 "metadata": {
  "kernelspec": {
   "display_name": "Python 3",
   "language": "python",
   "name": "python3"
  },
  "language_info": {
   "codemirror_mode": {
    "name": "ipython",
    "version": 3
   },
   "file_extension": ".py",
   "mimetype": "text/x-python",
   "name": "python",
   "nbconvert_exporter": "python",
   "pygments_lexer": "ipython3",
   "version": "3.5.2"
  }
 },
 "nbformat": 4,
 "nbformat_minor": 2
}
