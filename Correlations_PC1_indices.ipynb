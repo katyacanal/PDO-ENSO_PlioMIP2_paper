{
 "cells": [
  {
   "cell_type": "code",
   "execution_count": 1,
   "metadata": {
    "collapsed": true,
    "deletable": true,
    "editable": true
   },
   "outputs": [],
   "source": [
    "####\n",
    "import numpy as np\n",
    "import matplotlib as mpl\n",
    "import matplotlib.pyplot as plt\n",
    "import matplotlib.colors\n",
    "\n",
    "import matplotlib.gridspec as gridspec\n",
    "import statsmodels.tsa.stattools as smt\n",
    "\n",
    "import iris\n",
    "import iris.plot as iplt\n",
    "iris.FUTURE.netcdf_promote=True\n",
    "import iris.coord_categorisation\n",
    "from eofs.iris import Eof\n",
    "from iris.analysis import stats\n",
    "\n",
    "from matplotlib.patches import FancyArrowPatch"
   ]
  },
  {
   "cell_type": "code",
   "execution_count": 2,
   "metadata": {
    "collapsed": false,
    "deletable": true,
    "editable": true
   },
   "outputs": [
    {
     "name": "stderr",
     "output_type": "stream",
     "text": [
      "/apps/developers/libraries/python-libs/1.6/1/bit-64-python3-3.5.2/lib/iris/fileformats/_pyke_rules/compiled_krb/fc_rules_cf_fc.py:1813: FutureWarning: Conversion of the second argument of issubdtype from `str` to `str` is deprecated. In future, it will be treated as `np.str_ == np.dtype(str).type`.\n",
      "  if np.issubdtype(cf_var.dtype, np.str):\n",
      "/apps/developers/libraries/python-libs/1.6/1/bit-64-python3-3.5.2/lib/iris/fileformats/_pyke_rules/compiled_krb/fc_rules_cf_fc.py:1813: FutureWarning: Conversion of the second argument of issubdtype from `str` to `str` is deprecated. In future, it will be treated as `np.str_ == np.dtype(str).type`.\n",
      "  if np.issubdtype(cf_var.dtype, np.str):\n"
     ]
    }
   ],
   "source": [
    "# Upload observations\n",
    "file_obs = ('/nfs/see-fs-01_users/mlzp121/ee22kvcs/NOAAERSSTv5_1870_2018_monthly_sst_no_annual_cycle_detrended_regridded.nc')\n",
    "sst_obs = iris.Constraint(cube_func=lambda cube: cube.var_name == 'sst')\n",
    "cube_obs = iris.load_cube(file_obs,sst_obs)"
   ]
  },
  {
   "cell_type": "code",
   "execution_count": 3,
   "metadata": {
    "collapsed": true,
    "deletable": true,
    "editable": true
   },
   "outputs": [],
   "source": [
    "#Define constraints to make cubes for SST variables\n",
    "constraints = [iris.Constraint(cube_func=lambda cube: cube.var_name == 'tos'),\n",
    "               iris.Constraint(cube_func=lambda cube: cube.var_name == 'TS'),\n",
    "               iris.Constraint(cube_func=lambda cube: cube.var_name == 'THO'),\n",
    "               iris.Constraint(cube_func=lambda cube: cube.var_name == 'temp'),\n",
    "               iris.Constraint(cube_func=lambda cube: cube.var_name == 'tos'),\n",
    "               iris.Constraint(cube_func=lambda cube: cube.var_name == 'tos'),\n",
    "               iris.Constraint(cube_func=lambda cube: cube.var_name == 'sst')]"
   ]
  },
  {
   "cell_type": "code",
   "execution_count": 4,
   "metadata": {
    "collapsed": true,
    "deletable": true,
    "editable": true
   },
   "outputs": [
    {
     "name": "stderr",
     "output_type": "stream",
     "text": [
      "/apps/developers/libraries/python-libs/1.6/1/bit-64-python3-3.5.2/lib/iris/fileformats/_pyke_rules/compiled_krb/fc_rules_cf_fc.py:1813: FutureWarning: Conversion of the second argument of issubdtype from `str` to `str` is deprecated. In future, it will be treated as `np.str_ == np.dtype(str).type`.\n",
      "  if np.issubdtype(cf_var.dtype, np.str):\n",
      "/apps/developers/libraries/python-libs/1.6/1/bit-64-python3-3.5.2/lib/iris/fileformats/_pyke_rules/compiled_krb/fc_rules_cf_fc.py:1813: FutureWarning: Conversion of the second argument of issubdtype from `str` to `str` is deprecated. In future, it will be treated as `np.str_ == np.dtype(str).type`.\n",
      "  if np.issubdtype(cf_var.dtype, np.str):\n",
      "/apps/developers/libraries/python-libs/1.6/1/bit-64-python3-3.5.2/lib/iris/fileformats/_pyke_rules/compiled_krb/fc_rules_cf_fc.py:1813: FutureWarning: Conversion of the second argument of issubdtype from `str` to `str` is deprecated. In future, it will be treated as `np.str_ == np.dtype(str).type`.\n",
      "  if np.issubdtype(cf_var.dtype, np.str):\n",
      "/apps/developers/libraries/python-libs/1.6/1/bit-64-python3-3.5.2/lib/iris/fileformats/_pyke_rules/compiled_krb/fc_rules_cf_fc.py:1813: FutureWarning: Conversion of the second argument of issubdtype from `str` to `str` is deprecated. In future, it will be treated as `np.str_ == np.dtype(str).type`.\n",
      "  if np.issubdtype(cf_var.dtype, np.str):\n",
      "/apps/developers/libraries/python-libs/1.6/1/bit-64-python3-3.5.2/lib/iris/fileformats/_pyke_rules/compiled_krb/fc_rules_cf_fc.py:1813: FutureWarning: Conversion of the second argument of issubdtype from `str` to `str` is deprecated. In future, it will be treated as `np.str_ == np.dtype(str).type`.\n",
      "  if np.issubdtype(cf_var.dtype, np.str):\n",
      "/apps/developers/libraries/python-libs/1.6/1/bit-64-python3-3.5.2/lib/iris/fileformats/_pyke_rules/compiled_krb/fc_rules_cf_fc.py:1813: FutureWarning: Conversion of the second argument of issubdtype from `str` to `str` is deprecated. In future, it will be treated as `np.str_ == np.dtype(str).type`.\n",
      "  if np.issubdtype(cf_var.dtype, np.str):\n",
      "/apps/developers/libraries/python-libs/1.6/1/bit-64-python3-3.5.2/lib/iris/fileformats/_pyke_rules/compiled_krb/fc_rules_cf_fc.py:1813: FutureWarning: Conversion of the second argument of issubdtype from `str` to `str` is deprecated. In future, it will be treated as `np.str_ == np.dtype(str).type`.\n",
      "  if np.issubdtype(cf_var.dtype, np.str):\n",
      "/apps/developers/libraries/python-libs/1.6/1/bit-64-python3-3.5.2/lib/iris/fileformats/_pyke_rules/compiled_krb/fc_rules_cf_fc.py:1813: FutureWarning: Conversion of the second argument of issubdtype from `str` to `str` is deprecated. In future, it will be treated as `np.str_ == np.dtype(str).type`.\n",
      "  if np.issubdtype(cf_var.dtype, np.str):\n"
     ]
    }
   ],
   "source": [
    "# Upload Eoi400 simulations (MP)\n",
    "path = '/nfs/hera1/ee22kvcs/'\n",
    "models = [ 'CCSM4Utr', 'CESM1.2', 'COSMOS', 'HadCM3', 'IPSLCM6A', 'MIROC4m', 'NorESML']\n",
    "names_models_mp = ['0-200_timeseries_CCSM4Utr','501-1099_timeseries_CESM1.2','2300-2799_timeseries_COSMOS',\n",
    "                '2001-2501_timeseries_HadCM3','1850-2049_timeseries_IPSLCM6A','0-500_timeseries_MIROC4m',\n",
    "                '1001-1200_timeseries_NorESML']\n",
    "MP_models = []\n",
    "for i in range(np.size(models)):\n",
    "    uploaded_cubes = iris.load_cube(path+'EOI400.SST.'+names_models_mp[i]+'_no_ann_cycle.nc', constraints[i])\n",
    "    if i == 2:\n",
    "        uploaded_cubes = uploaded_cubes[:, 0, :, :]\n",
    "    else:\n",
    "        uploaded_cubes = uploaded_cubes\n",
    "    MP_models.append(uploaded_cubes)\n",
    "\n",
    "#print(MP_models)"
   ]
  },
  {
   "cell_type": "code",
   "execution_count": 5,
   "metadata": {
    "collapsed": true,
    "deletable": true,
    "editable": true
   },
   "outputs": [
    {
     "name": "stderr",
     "output_type": "stream",
     "text": [
      "/apps/developers/libraries/python-libs/1.6/1/bit-64-python3-3.5.2/lib/iris/fileformats/_pyke_rules/compiled_krb/fc_rules_cf_fc.py:1813: FutureWarning: Conversion of the second argument of issubdtype from `str` to `str` is deprecated. In future, it will be treated as `np.str_ == np.dtype(str).type`.\n",
      "  if np.issubdtype(cf_var.dtype, np.str):\n",
      "/apps/developers/libraries/python-libs/1.6/1/bit-64-python3-3.5.2/lib/iris/fileformats/_pyke_rules/compiled_krb/fc_rules_cf_fc.py:1813: FutureWarning: Conversion of the second argument of issubdtype from `str` to `str` is deprecated. In future, it will be treated as `np.str_ == np.dtype(str).type`.\n",
      "  if np.issubdtype(cf_var.dtype, np.str):\n",
      "/apps/developers/libraries/python-libs/1.6/1/bit-64-python3-3.5.2/lib/iris/fileformats/_pyke_rules/compiled_krb/fc_rules_cf_fc.py:1813: FutureWarning: Conversion of the second argument of issubdtype from `str` to `str` is deprecated. In future, it will be treated as `np.str_ == np.dtype(str).type`.\n",
      "  if np.issubdtype(cf_var.dtype, np.str):\n",
      "/apps/developers/libraries/python-libs/1.6/1/bit-64-python3-3.5.2/lib/iris/fileformats/_pyke_rules/compiled_krb/fc_rules_cf_fc.py:1813: FutureWarning: Conversion of the second argument of issubdtype from `str` to `str` is deprecated. In future, it will be treated as `np.str_ == np.dtype(str).type`.\n",
      "  if np.issubdtype(cf_var.dtype, np.str):\n",
      "/apps/developers/libraries/python-libs/1.6/1/bit-64-python3-3.5.2/lib/iris/fileformats/_pyke_rules/compiled_krb/fc_rules_cf_fc.py:1813: FutureWarning: Conversion of the second argument of issubdtype from `str` to `str` is deprecated. In future, it will be treated as `np.str_ == np.dtype(str).type`.\n",
      "  if np.issubdtype(cf_var.dtype, np.str):\n",
      "/apps/developers/libraries/python-libs/1.6/1/bit-64-python3-3.5.2/lib/iris/fileformats/_pyke_rules/compiled_krb/fc_rules_cf_fc.py:1813: FutureWarning: Conversion of the second argument of issubdtype from `str` to `str` is deprecated. In future, it will be treated as `np.str_ == np.dtype(str).type`.\n",
      "  if np.issubdtype(cf_var.dtype, np.str):\n",
      "/apps/developers/libraries/python-libs/1.6/1/bit-64-python3-3.5.2/lib/iris/fileformats/_pyke_rules/compiled_krb/fc_rules_cf_fc.py:1813: FutureWarning: Conversion of the second argument of issubdtype from `str` to `str` is deprecated. In future, it will be treated as `np.str_ == np.dtype(str).type`.\n",
      "  if np.issubdtype(cf_var.dtype, np.str):\n",
      "/apps/developers/libraries/python-libs/1.6/1/bit-64-python3-3.5.2/lib/iris/fileformats/_pyke_rules/compiled_krb/fc_rules_cf_fc.py:1813: FutureWarning: Conversion of the second argument of issubdtype from `str` to `str` is deprecated. In future, it will be treated as `np.str_ == np.dtype(str).type`.\n",
      "  if np.issubdtype(cf_var.dtype, np.str):\n"
     ]
    }
   ],
   "source": [
    "# Upload E280 simulations (PI)\n",
    "path = '/nfs/hera1/ee22kvcs/'\n",
    "models = [ 'CCSM4Utr', 'CESM1.2', 'COSMOS', 'HadCM3', 'IPSLCM6A', 'MIROC4m', 'NorESML']\n",
    "names_models_pi = ['0-200_timeseries_CCSM4Utr','501-806_timeseries_CESM1.2','2300-2799_timeseries_COSMOS',\n",
    "                '2411-2911_timeseries_HadCM3','2850-3049_timeseries_IPSLCM6A','0-500_timeseries_MIROC4m',\n",
    "                '0-200_timeseries_NorESML']\n",
    "PI_models = []\n",
    "for i in range(np.size(models)):\n",
    "    uploaded_cubes = iris.load_cube(path+'E280.SST.'+names_models_pi[i]+'_no_ann_cycle.nc', constraints[i])\n",
    "    if i == 2:\n",
    "        uploaded_cubes = uploaded_cubes[:, 0, :, :]\n",
    "    else:\n",
    "        uploaded_cubes = uploaded_cubes\n",
    "    PI_models.append(uploaded_cubes)\n",
    "\n",
    "#print(PI_models)"
   ]
  },
  {
   "cell_type": "markdown",
   "metadata": {
    "deletable": true,
    "editable": true
   },
   "source": [
    "### ENSO index PC1"
   ]
  },
  {
   "cell_type": "code",
   "execution_count": 6,
   "metadata": {
    "collapsed": true,
    "deletable": true,
    "editable": true
   },
   "outputs": [],
   "source": [
    "# EL NIÑO 3.4 region\n",
    "# Delimt the region\n",
    "min_lat = -5.0\n",
    "max_lat = 5.0\n",
    "min_lon = 120.0\n",
    "max_lon = 170.0\n",
    "\n",
    "# Functions to identify latitudes and longitudes we want to subset to\n",
    "def nino_lat(input):\n",
    "    return min_lat  <= input <= max_lat \n",
    "def nino_lon(input):\n",
    "    return min_lon  <= input <= max_lon \n",
    "\n",
    "nino_con = iris.Constraint(latitude = nino_lat, longitude = nino_lon)\n",
    "\n",
    "nino_mp_subset = []\n",
    "for i in MP_models:\n",
    "    nino_mp_sub = nino_con.extract(i)\n",
    "    nino_mp_subset.append(nino_mp_sub)\n",
    "    \n",
    "nino_pi_subset = []\n",
    "for j in PI_models:\n",
    "    nino_pi_sub = nino_con.extract(j)\n",
    "    nino_pi_subset.append(nino_pi_sub)\n",
    "    \n",
    "nino_obs_subset = nino_con.extract(cube_obs)"
   ]
  },
  {
   "cell_type": "code",
   "execution_count": 7,
   "metadata": {
    "collapsed": true,
    "deletable": true,
    "editable": true
   },
   "outputs": [],
   "source": [
    "### Calculate PC1 for the tropical Pacific (El Niño region)\n",
    "## MP\n",
    "pcs_mp_nino = []\n",
    "for mod in range(np.size(MP_models)):\n",
    "    if not nino_mp_subset[mod].coord('latitude').has_bounds():\n",
    "        nino_mp_subset[mod].coord('latitude').guess_bounds()\n",
    "    if not nino_mp_subset[mod].coord('longitude').has_bounds():\n",
    "        nino_mp_subset[mod].coord('longitude').guess_bounds()\n",
    "    solver = Eof(nino_mp_subset[mod], weights='area')\n",
    "    pcs  = solver.pcs(npcs=1)\n",
    "    pcs_mp_nino.append(pcs)\n",
    "    \n",
    "## PI    \n",
    "pcs_pi_nino = []\n",
    "for mod in range(np.size(PI_models)):\n",
    "    if not nino_pi_subset[mod].coord('latitude').has_bounds():\n",
    "        nino_pi_subset[mod].coord('latitude').guess_bounds()\n",
    "    if not nino_pi_subset[mod].coord('longitude').has_bounds():\n",
    "        nino_pi_subset[mod].coord('longitude').guess_bounds()\n",
    "    solver = Eof(nino_pi_subset[mod], weights='area')\n",
    "    pcs  = solver.pcs(npcs=1)\n",
    "    pcs_pi_nino.append(pcs)\n",
    "    \n",
    "## Obs    \n",
    "if not nino_obs_subset.coord('latitude').has_bounds():\n",
    "    nino_obs_subset.coord('latitude').guess_bounds()\n",
    "if not nino_obs_subset.coord('longitude').has_bounds():\n",
    "    nino_obs_subset.coord('longitude').guess_bounds()        \n",
    "solver_obsn = Eof(nino_obs_subset, weights='area')\n",
    "pcs_obsn  = solver_obsn.pcs(npcs=1)"
   ]
  },
  {
   "cell_type": "markdown",
   "metadata": {
    "deletable": true,
    "editable": true
   },
   "source": [
    "### PDO index PC1"
   ]
  },
  {
   "cell_type": "code",
   "execution_count": 9,
   "metadata": {
    "collapsed": true,
    "deletable": true,
    "editable": true
   },
   "outputs": [],
   "source": [
    "# Calculate PC1 for the North Pacific (PDO region)\n",
    "# Delimt the region for the cube\n",
    "min_lat = 20.0\n",
    "max_lat = 70.0\n",
    "min_lon = 120.0\n",
    "max_lon = 240.0\n",
    "\n",
    "# Functions to identify latitudes and longitudes we want to subset to\n",
    "def pdo_lat(input):\n",
    "    return min_lat  <= input <= max_lat \n",
    "def pdo_lon(input):\n",
    "    return min_lon  <= input <= max_lon \n",
    "\n",
    "pdo_con = iris.Constraint(latitude = pdo_lat, longitude = pdo_lon)\n",
    "# Subset the cube\n",
    "\n",
    "pdo_mp_subset = []\n",
    "for i in MP_models:\n",
    "    pdo_mp_sub = pdo_con.extract(i)\n",
    "    pdo_mp_subset.append(pdo_mp_sub)\n",
    "    \n",
    "pdo_pi_subset = []\n",
    "for j in PI_models:\n",
    "    pdo_pi_sub = pdo_con.extract(j)\n",
    "    pdo_pi_subset.append(pdo_pi_sub)\n",
    "\n",
    "pdo_obs_subset = pdo_con.extract(cube_obs)"
   ]
  },
  {
   "cell_type": "code",
   "execution_count": 10,
   "metadata": {
    "collapsed": false,
    "deletable": true,
    "editable": true
   },
   "outputs": [],
   "source": [
    "### Calculate PC1 for PDO\n",
    "## MP\n",
    "pcs_mp_pdo = []\n",
    "for mod in range(np.size(pdo_mp_subset)):\n",
    "    # Add bounds\n",
    "    if not pdo_mp_subset[mod].coord('latitude').has_bounds():\n",
    "        pdo_mp_subset[mod].coord('latitude').guess_bounds()\n",
    "    if not pdo_mp_subset[mod].coord('longitude').has_bounds():\n",
    "        pdo_mp_subset[mod].coord('longitude').guess_bounds()\n",
    "    solver = Eof(pdo_mp_subset[mod], weights='area')\n",
    "    pcs  = solver.pcs(npcs=1)\n",
    "    pcs_mp_pdo.append(pcs)\n",
    "    \n",
    "## PI    \n",
    "pcs_pi_pdo = []\n",
    "for mod in range(np.size(pdo_pi_subset)):\n",
    "    # Add bounds\n",
    "    if not pdo_pi_subset[mod].coord('latitude').has_bounds():\n",
    "        pdo_pi_subset[mod].coord('latitude').guess_bounds()\n",
    "    if not pdo_pi_subset[mod].coord('longitude').has_bounds():\n",
    "        pdo_pi_subset[mod].coord('longitude').guess_bounds()\n",
    "    solver = Eof(pdo_pi_subset[mod], weights='area')\n",
    "    pcs  = solver.pcs(npcs=1)\n",
    "    pcs_pi_pdo.append(pcs)\n",
    "\n",
    "## Obs\n",
    "if not pdo_obs_subset.coord('latitude').has_bounds():\n",
    "    pdo_obs_subset.coord('latitude').guess_bounds()\n",
    "if not pdo_obs_subset.coord('longitude').has_bounds():\n",
    "    pdo_obs_subset.coord('longitude').guess_bounds()        \n",
    "solver_obsp = Eof(pdo_obs_subset, weights='area')\n",
    "pcs_obsp  = solver_obsp.pcs(npcs=1)"
   ]
  },
  {
   "cell_type": "markdown",
   "metadata": {
    "deletable": true,
    "editable": true
   },
   "source": [
    "### Pearson correlations (Figure S6)"
   ]
  },
  {
   "cell_type": "code",
   "execution_count": 11,
   "metadata": {
    "collapsed": false,
    "deletable": true,
    "editable": true
   },
   "outputs": [],
   "source": [
    "all_pcs_nino_mp = [iris.util.squeeze(pcs_mp_nino[i]) for i in range(np.size(pcs_mp_nino))]\n",
    "all_pcs_pdo_mp = [iris.util.squeeze(pcs_mp_pdo[i]) for i in range(np.size(pcs_mp_pdo))]\n",
    "all_pcs_nino_pi = [iris.util.squeeze(pcs_pi_nino[i]) for i in range(np.size(pcs_mp_nino))]\n",
    "all_pcs_pdo_pi = [iris.util.squeeze(pcs_pi_pdo[i]) for i in range(np.size(pcs_pi_pdo))]"
   ]
  },
  {
   "cell_type": "code",
   "execution_count": 12,
   "metadata": {
    "collapsed": false,
    "deletable": true,
    "editable": true
   },
   "outputs": [],
   "source": [
    "all_pcs_nino_mp_2 = [all_pcs_nino_mp[i].data for i in range(np.size(pcs_mp_nino))]\n",
    "combined_nino_mp = np.concatenate(all_pcs_nino_mp_2)\n",
    "\n",
    "all_pcs_pdo_mp_2 = [all_pcs_pdo_mp[i].data for i in range(np.size(pcs_mp_pdo))]\n",
    "combined_pdo_mp = np.concatenate(all_pcs_pdo_mp_2)"
   ]
  },
  {
   "cell_type": "code",
   "execution_count": 13,
   "metadata": {
    "collapsed": false,
    "deletable": true,
    "editable": true
   },
   "outputs": [],
   "source": [
    "all_pcs_nino_pi_2 = [all_pcs_nino_pi[i].data for i in range(np.size(pcs_pi_nino))]\n",
    "combined_nino_pi = np.concatenate(all_pcs_nino_pi_2)\n",
    "\n",
    "all_pcs_pdo_pi_2 = [all_pcs_pdo_pi[i].data for i in range(np.size(pcs_pi_pdo))]\n",
    "combined_pdo_pi = np.concatenate(all_pcs_pdo_pi_2)"
   ]
  },
  {
   "cell_type": "code",
   "execution_count": 16,
   "metadata": {
    "collapsed": false,
    "deletable": true,
    "editable": true
   },
   "outputs": [
    {
     "name": "stderr",
     "output_type": "stream",
     "text": [
      "/apps/developers/libraries/python-libs/1.6/1/bit-64-python3-3.5.2/lib/iris/coords.py:988: FutureWarning: Conversion of the second argument of issubdtype from `str` to `str` is deprecated. In future, it will be treated as `np.str_ == np.dtype(str).type`.\n",
      "  if np.issubdtype(self.dtype, np.str):\n",
      "/apps/developers/libraries/python-libs/1.6/1/bit-64-python3-3.5.2/lib/iris/coords.py:1017: UserWarning: Collapsing a non-contiguous coordinate. Metadata may not be fully descriptive for 'time'.\n",
      "  warnings.warn(msg.format(self.name()))\n",
      "/apps/developers/libraries/python-libs/1.6/1/bit-64-python3-3.5.2/lib/iris/coords.py:1017: UserWarning: Collapsing a non-contiguous coordinate. Metadata may not be fully descriptive for 'month'.\n",
      "  warnings.warn(msg.format(self.name()))\n",
      "/apps/developers/libraries/python-libs/1.6/1/bit-64-python3-3.5.2/lib/iris/coords.py:1017: UserWarning: Collapsing a non-contiguous coordinate. Metadata may not be fully descriptive for 'year'.\n",
      "  warnings.warn(msg.format(self.name()))\n"
     ]
    }
   ],
   "source": [
    "corr_obs = stats.pearsonr(iris.util.squeeze(pcs_obsn), iris.util.squeeze(pcs_obsp))\n",
    "\n",
    "corr_mp =[]\n",
    "corr_pi =[]\n",
    "\n",
    "for m in range(7):\n",
    "    corrmp = stats.pearsonr(all_pcs_nino_mp[m], all_pcs_pdo_mp[m])\n",
    "    if corrmp.data <= 0:\n",
    "        corrmp =corrmp*-1\n",
    "    corr_mp.append(corrmp)\n",
    "    \n",
    "for m in range(7):    \n",
    "    corrpi = stats.pearsonr(all_pcs_nino_pi[m], all_pcs_pdo_pi[m])\n",
    "    if corrpi.data <= 0:\n",
    "        corrpi =corrpi*-1\n",
    "    corr_pi.append(corrpi)"
   ]
  },
  {
   "cell_type": "code",
   "execution_count": 17,
   "metadata": {
    "collapsed": true,
    "deletable": true,
    "editable": true
   },
   "outputs": [],
   "source": [
    "### Merge correlations\n",
    "CORR_MP = [corr_mp[i].data for i in range(np.size(corr_mp))] + [sum(corr_mp[j].data for j in range(np.size(corr_mp))) / 7]\n",
    "CORR_PI = [corr_pi[i].data for i in range(np.size(corr_pi))] + [sum(corr_pi[j].data for j in range(np.size(corr_pi))) / 7]"
   ]
  },
  {
   "cell_type": "code",
   "execution_count": 18,
   "metadata": {
    "collapsed": false,
    "deletable": true,
    "editable": true
   },
   "outputs": [
    {
     "data": {
      "image/png": "[encoded data removed]",
      "text/plain": [
       "<matplotlib.figure.Figure at 0x7f2a69438fd0>"
      ]
     },
     "metadata": {},
     "output_type": "display_data"
    }
   ],
   "source": [
    "## Plot\n",
    "labels1 = ['CCSM4-Utr','CESM-1.2','COSMOS','HadCM3','IPSLCM6A-LR','MIROC4m','NorESM-L','MMM']\n",
    "labels2 = ['CCSM4-Utr','CESM-1.2','COSMOS','HadCM3','IPSLCM6A-LR','MIROC4m','NorESM-L','MMM', 'NOAAERSSTv5']\n",
    "\n",
    "fig = plt.figure(figsize=(14.5, 5))\n",
    "ax1 = fig.add_subplot(1,1,1)\n",
    "\n",
    "bars_mp = ax1.bar(np.arange(len(labels1)) + 0.00, np.array(CORR_MP), 0.25, label = 'MP', color='#F28E00')\n",
    "bars_pi_pdo = ax1.bar(np.arange(len(labels1)) + 0.25, np.array(CORR_PI), 0.25, label = 'PI', color='#569EC1')\n",
    "bar_obs = ax1.bar(8.1, np.array(corr_obs.data), 0.25, label = 'OBS', color='gray' ) \n",
    "\n",
    "# Add labels to MP bars\n",
    "change = (np.array(CORR_MP)-np.array(CORR_PI))/np.array(CORR_PI)*100\n",
    "labels_mp_str = [\"%.f\" % x for x in change]\n",
    "for i, rect in enumerate(bars_mp):\n",
    "    if i == 0:\n",
    "        ax1.annotate(labels_mp_str[i] + '%',\n",
    "                 xy=(rect.get_x() + rect.get_width() / 2 - 0.27, rect.get_height() + 0.1),\n",
    "                 xytext=(0, 3),  # 3 points vertical offset\n",
    "                 textcoords=\"offset points\",\n",
    "                 ha='center', va='bottom', fontsize=14)\n",
    "    \n",
    "    elif i == 1 or i == 7:\n",
    "        ax1.annotate(labels_mp_str[i] + '%',\n",
    "                 xy=(rect.get_x() + rect.get_width() / 2 - 0.27, rect.get_height() + 0.022),\n",
    "                 xytext=(0, 3),  # 3 points vertical offset\n",
    "                 textcoords=\"offset points\",\n",
    "                 ha='center', va='bottom', fontsize=14)\n",
    "    elif i == 2:\n",
    "        ax1.annotate(labels_mp_str[i] + '%',\n",
    "                 xy=(rect.get_x() + rect.get_width() / 2 - 0.29, rect.get_height() - 0),\n",
    "                 xytext=(0, 3),  # 3 points vertical offset\n",
    "                 textcoords=\"offset points\",\n",
    "                 ha='center', va='bottom', fontsize=14)\n",
    "    \n",
    "    elif i == 3 or i == 4:\n",
    "        ax1.annotate(labels_mp_str[i] + '%',\n",
    "                 xy=(rect.get_x() + rect.get_width() / 2 + 0.45, rect.get_height() - 0.04),\n",
    "                 xytext=(0, 3),  # 3 points vertical offset\n",
    "                 textcoords=\"offset points\",\n",
    "                 ha='center', va='bottom', fontsize=14)\n",
    "    elif i == 5:\n",
    "        ax1.annotate(labels_mp_str[i] + '%',\n",
    "                 xy=(rect.get_x() + rect.get_width() / 2 - 0.27, rect.get_height() + 0.05),\n",
    "                 xytext=(0, 3),  # 3 points vertical offset\n",
    "                 textcoords=\"offset points\",\n",
    "                 ha='center', va='bottom', fontsize=14)\n",
    "    else:\n",
    "        ax1.annotate(labels_mp_str[i] + '%',\n",
    "                 xy=(rect.get_x() + rect.get_width() / 2 + 0.45, rect.get_height() - 0.05),\n",
    "                 xytext=(0, 3),  # 3 points vertical offset\n",
    "                 textcoords=\"offset points\",\n",
    "                 ha='center', va='bottom', fontsize=14)\n",
    "\n",
    "# Add arrows to bars\n",
    "for i in range(len(labels1)):\n",
    "    arrow = FancyArrowPatch(\n",
    "        (bars_pi_pdo[i].get_x() - bars_pi_pdo[i].get_width() / 2, bars_pi_pdo[i].get_height()),\n",
    "        (bars_pi_pdo[i].get_x() - bars_pi_pdo[i].get_width() / 2, bars_mp[i].get_height()),\n",
    "        arrowstyle='simple', mutation_scale=15, color='black', linestyle='-'\n",
    "    )\n",
    "    ax1.add_patch(arrow)\n",
    "        \n",
    "ax1.set_xticks(np.arange(9)+0.1)\n",
    "ax1.set_xticklabels(labels2,fontsize=13.5)\n",
    "ax1.set_yticks([0,.05,.1,.15,.2,.25,.3,.35,.4,.45,.5])\n",
    "ax1.set_yticklabels([0,.05,.1,.15,.2,.25,.3,.35,.4,.45,.5],fontsize=13.5)\n",
    "\n",
    "ax1.set_xlabel('Model', fontsize=17)\n",
    "ax1.set_ylabel('Correlation coefficient', fontsize=17) \n",
    "plt.axhline(y=0, color='gray', linestyle='-', linewidth=1.5)\n",
    "ax1.legend(fontsize=14)\n",
    "#plt.savefig('/nfs/see-fs-01_users/mlzp121/ee22kvcs/Task4/Correlation_bars_PC1indices.png', bbox_inches = 'tight', dpi=300, format='png')\n",
    "plt.show()"
   ]
  },
  {
   "cell_type": "code",
   "execution_count": null,
   "metadata": {
    "collapsed": true,
    "deletable": true,
    "editable": true
   },
   "outputs": [],
   "source": []
  }
 ],
 "metadata": {
  "kernelspec": {
   "display_name": "Python 3",
   "language": "python",
   "name": "python3"
  },
  "language_info": {
   "codemirror_mode": {
    "name": "ipython",
    "version": 3
   },
   "file_extension": ".py",
   "mimetype": "text/x-python",
   "name": "python",
   "nbconvert_exporter": "python",
   "pygments_lexer": "ipython3",
   "version": "3.5.2"
  }
 },
 "nbformat": 4,
 "nbformat_minor": 2
}
